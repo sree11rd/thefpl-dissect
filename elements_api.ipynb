{
 "cells": [
  {
   "cell_type": "code",
   "execution_count": null,
   "id": "74f3d784-a9e4-4e64-9849-8dd05e7fe813",
   "metadata": {},
   "outputs": [],
   "source": [
    "import requests\n",
    "import pandas as pd\n",
    "import numpy as np\n",
    "import json"
   ]
  },
  {
   "cell_type": "code",
   "execution_count": null,
   "id": "d46dc3d5-d531-4459-b5bd-2ec158adf772",
   "metadata": {},
   "outputs": [],
   "source": [
    "url = 'https://fantasy.premierleague.com/api/bootstrap-static/'"
   ]
  },
  {
   "cell_type": "code",
   "execution_count": null,
   "id": "011008a3-8371-465a-9378-3bb9403ae24e",
   "metadata": {},
   "outputs": [],
   "source": [
    "response = requests.get(url)"
   ]
  },
  {
   "cell_type": "code",
   "execution_count": null,
   "id": "61dfabd4-4939-46cd-895e-5e76e8b5d685",
   "metadata": {},
   "outputs": [],
   "source": [
    "data = response.json() #storing the response as a dict\n",
    "print(data)# prints entire dict ie all keys and its value pairs(list of dicts)"
   ]
  },
  {
   "cell_type": "code",
   "execution_count": null,
   "id": "c6b00b8f-48a1-4baa-bca4-0c4ad9db74b3",
   "metadata": {},
   "outputs": [],
   "source": [
    "key1 = data['events'] #stores list of dicts into a list stored in key 'events'\n",
    "print(key1) #prints the entire list for the key 'events'(another set of dicts)"
   ]
  },
  {
   "cell_type": "code",
   "execution_count": null,
   "id": "14b93b8a-577c-476c-9fac-09f7c2759c5a",
   "metadata": {},
   "outputs": [],
   "source": [
    "key2 = data['teams'] #stores list of dicts into a list stored in key 'teams'\n",
    "print(key2)#prints the entire list for the key 'teams'(another set of dicts)"
   ]
  },
  {
   "cell_type": "code",
   "execution_count": null,
   "id": "919e30ba-fa5c-422d-b353-6f133d852e2d",
   "metadata": {},
   "outputs": [],
   "source": [
    "first_team = key2[0] # first item in the list of 'teams' ,which is a dict of multiple key values\n",
    "print(first_team)"
   ]
  },
  {
   "cell_type": "code",
   "execution_count": null,
   "id": "636cb560-d5fb-4691-9f40-135369f53834",
   "metadata": {},
   "outputs": [],
   "source": [
    "second_team = key2[1] # first item in the list of 'teams' ,which is a dict of multiple key values\n",
    "print(second_team)"
   ]
  },
  {
   "cell_type": "code",
   "execution_count": null,
   "id": "021b87e1-2c61-4379-af82-b34e4e021735",
   "metadata": {},
   "outputs": [],
   "source": [
    "first_team_name = first_team['name'] #calling a single key value pair from the dict\n",
    "print(first_team_name)"
   ]
  },
  {
   "cell_type": "code",
   "execution_count": null,
   "id": "4c89a039-a74f-4efd-9d14-10aafa5dfac0",
   "metadata": {},
   "outputs": [],
   "source": [
    "second_team_name = data['teams'][1]['name']\n",
    "print(second_team_name)"
   ]
  },
  {
   "cell_type": "code",
   "execution_count": null,
   "id": "05626154-d5ad-4746-a840-c2d2f9acc71a",
   "metadata": {},
   "outputs": [],
   "source": [
    "for key in data:{\n",
    "    print(key,\":\", data[key])\n",
    "}"
   ]
  },
  {
   "cell_type": "code",
   "execution_count": null,
   "id": "d34eec3a-85cd-4348-b45d-24a1addc95e5",
   "metadata": {},
   "outputs": [],
   "source": [
    "data.keys()"
   ]
  },
  {
   "cell_type": "code",
   "execution_count": null,
   "id": "e3d1cf23-cf09-4f9a-9647-d8f291f4dcfb",
   "metadata": {},
   "outputs": [],
   "source": [
    "events = data[\"events\"]\n",
    "print(events)"
   ]
  },
  {
   "cell_type": "code",
   "execution_count": null,
   "id": "b86da3b7-6765-4c35-a56b-33e9b8682b7d",
   "metadata": {},
   "outputs": [],
   "source": [
    "essential_keys = ['events','teams','elements']"
   ]
  },
  {
   "cell_type": "code",
   "execution_count": null,
   "id": "56665b75-e7e2-4311-b743-057026164dac",
   "metadata": {},
   "outputs": [],
   "source": [
    "events_df = pd.DataFrame(data['events'])\n",
    "teams_df = pd.DataFrame(data['teams'])\n",
    "elements_df = pd.DataFrame(data['elements'])"
   ]
  },
  {
   "cell_type": "code",
   "execution_count": null,
   "id": "a4b57e6f-21d0-4226-8c5e-ae1d5859e595",
   "metadata": {},
   "outputs": [],
   "source": [
    "events_df.head()"
   ]
  },
  {
   "cell_type": "code",
   "execution_count": null,
   "id": "b78779d1-b550-44f3-8f86-ce5e3017a53a",
   "metadata": {},
   "outputs": [],
   "source": [
    "events_df.columns"
   ]
  },
  {
   "cell_type": "code",
   "execution_count": null,
   "id": "552f2f2c-8c64-465c-8e0c-8fcf6f82a0e8",
   "metadata": {},
   "outputs": [],
   "source": [
    "elements_df.head()"
   ]
  },
  {
   "cell_type": "code",
   "execution_count": null,
   "id": "19bcac1a-26e6-4088-8016-e62a2d02b592",
   "metadata": {},
   "outputs": [],
   "source": [
    "elements_df.columns"
   ]
  },
  {
   "cell_type": "code",
   "execution_count": null,
   "id": "0287037f-7e30-4a43-950d-93654d202f6e",
   "metadata": {},
   "outputs": [],
   "source": [
    "teams_df.columns"
   ]
  },
  {
   "cell_type": "code",
   "execution_count": null,
   "id": "9a8b4306-1678-46e9-84b8-f9a2c91d73cf",
   "metadata": {},
   "outputs": [],
   "source": [
    "if response.status_code == 200:\n",
    "    data = response.json()\n",
    "    \n",
    "    for key in essential_keys:\n",
    "        if key in data:\n",
    "            value = data[key]\n",
    "            \n",
    "            # Create a DataFrame from the value\n",
    "            df = pd.DataFrame(value)\n",
    "            \n",
    "            # Save the DataFrame to a CSV file\n",
    "            csv_filename = f\"{key}_data.csv\"\n",
    "            df.to_csv(csv_filename, index=False)\n",
    "            \n",
    "            print(f\"Data for '{key}' saved to '{csv_filename}'\\n\")\n",
    "        else:\n",
    "            print(f\"'{key}' not found in the API response.\\n\")\n",
    "else:\n",
    "    print(\"Failed to fetch data from the API.\")"
   ]
  },
  {
   "cell_type": "code",
   "execution_count": null,
   "id": "b59036ac-f897-4149-98b0-93a8ebd5a77c",
   "metadata": {},
   "outputs": [],
   "source": [
    "csv_fname = \"elements_data2.csv\"\n",
    "elements_df.to_csv(csv_fname,index =True)"
   ]
  },
  {
   "cell_type": "code",
   "execution_count": null,
   "id": "eebe6314-c5cc-416e-b964-ee32c8573e5b",
   "metadata": {},
   "outputs": [],
   "source": []
  }
 ],
 "metadata": {
  "kernelspec": {
   "display_name": "venv_fpl_kernel",
   "language": "python",
   "name": "venv_fpl"
  },
  "language_info": {
   "codemirror_mode": {
    "name": "ipython",
    "version": 3
   },
   "file_extension": ".py",
   "mimetype": "text/x-python",
   "name": "python",
   "nbconvert_exporter": "python",
   "pygments_lexer": "ipython3",
   "version": "3.11.4"
  }
 },
 "nbformat": 4,
 "nbformat_minor": 5
}
