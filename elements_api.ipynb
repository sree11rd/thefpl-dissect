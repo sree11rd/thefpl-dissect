{
 "cells": [
  {
   "cell_type": "code",
   "execution_count": 16,
   "id": "74f3d784-a9e4-4e64-9849-8dd05e7fe813",
   "metadata": {},
   "outputs": [],
   "source": [
    "import requests\n",
    "import pandas as pd\n",
    "import numpy as np"
   ]
  },
  {
   "cell_type": "code",
   "execution_count": 17,
   "id": "d46dc3d5-d531-4459-b5bd-2ec158adf772",
   "metadata": {},
   "outputs": [],
   "source": [
    "url = 'https://fantasy.premierleague.com/api/bootstrap-static/'"
   ]
  },
  {
   "cell_type": "code",
   "execution_count": 18,
   "id": "011008a3-8371-465a-9378-3bb9403ae24e",
   "metadata": {},
   "outputs": [],
   "source": [
    "response = requests.get(url)"
   ]
  },
  {
   "cell_type": "code",
   "execution_count": 22,
   "id": "61dfabd4-4939-46cd-895e-5e76e8b5d685",
   "metadata": {},
   "outputs": [],
   "source": [
    "data = response.json()"
   ]
  },
  {
   "cell_type": "code",
   "execution_count": 20,
   "id": "d34eec3a-85cd-4348-b45d-24a1addc95e5",
   "metadata": {},
   "outputs": [
    {
     "data": {
      "text/plain": [
       "dict_keys(['events', 'game_settings', 'phases', 'teams', 'total_players', 'elements', 'element_stats', 'element_types'])"
      ]
     },
     "execution_count": 20,
     "metadata": {},
     "output_type": "execute_result"
    }
   ],
   "source": [
    "data.keys()"
   ]
  },
  {
   "cell_type": "code",
   "execution_count": 41,
   "id": "b86da3b7-6765-4c35-a56b-33e9b8682b7d",
   "metadata": {},
   "outputs": [],
   "source": [
    "essential_keys = ['events','teams','elements']"
   ]
  },
  {
   "cell_type": "code",
   "execution_count": 42,
   "id": "56665b75-e7e2-4311-b743-057026164dac",
   "metadata": {},
   "outputs": [],
   "source": [
    "events_df = pd.DataFrame(data['events'])\n",
    "teams_df = pd.DataFrame(data['teams'])\n",
    "elements_df = pd.DataFrame(data['elements'])"
   ]
  },
  {
   "cell_type": "code",
   "execution_count": 43,
   "id": "a4b57e6f-21d0-4226-8c5e-ae1d5859e595",
   "metadata": {},
   "outputs": [
    {
     "data": {
      "text/html": [
       "<div>\n",
       "<style scoped>\n",
       "    .dataframe tbody tr th:only-of-type {\n",
       "        vertical-align: middle;\n",
       "    }\n",
       "\n",
       "    .dataframe tbody tr th {\n",
       "        vertical-align: top;\n",
       "    }\n",
       "\n",
       "    .dataframe thead th {\n",
       "        text-align: right;\n",
       "    }\n",
       "</style>\n",
       "<table border=\"1\" class=\"dataframe\">\n",
       "  <thead>\n",
       "    <tr style=\"text-align: right;\">\n",
       "      <th></th>\n",
       "      <th>id</th>\n",
       "      <th>name</th>\n",
       "      <th>deadline_time</th>\n",
       "      <th>average_entry_score</th>\n",
       "      <th>finished</th>\n",
       "      <th>data_checked</th>\n",
       "      <th>highest_scoring_entry</th>\n",
       "      <th>deadline_time_epoch</th>\n",
       "      <th>deadline_time_game_offset</th>\n",
       "      <th>highest_score</th>\n",
       "      <th>...</th>\n",
       "      <th>cup_leagues_created</th>\n",
       "      <th>h2h_ko_matches_created</th>\n",
       "      <th>chip_plays</th>\n",
       "      <th>most_selected</th>\n",
       "      <th>most_transferred_in</th>\n",
       "      <th>top_element</th>\n",
       "      <th>top_element_info</th>\n",
       "      <th>transfers_made</th>\n",
       "      <th>most_captained</th>\n",
       "      <th>most_vice_captained</th>\n",
       "    </tr>\n",
       "  </thead>\n",
       "  <tbody>\n",
       "    <tr>\n",
       "      <th>0</th>\n",
       "      <td>1</td>\n",
       "      <td>Gameweek 1</td>\n",
       "      <td>2023-08-11T17:30:00Z</td>\n",
       "      <td>0</td>\n",
       "      <td>False</td>\n",
       "      <td>False</td>\n",
       "      <td>None</td>\n",
       "      <td>1691775000</td>\n",
       "      <td>0</td>\n",
       "      <td>None</td>\n",
       "      <td>...</td>\n",
       "      <td>False</td>\n",
       "      <td>False</td>\n",
       "      <td>[{'chip_name': 'bboost', 'num_played': 46434},...</td>\n",
       "      <td>None</td>\n",
       "      <td>None</td>\n",
       "      <td>None</td>\n",
       "      <td>None</td>\n",
       "      <td>0</td>\n",
       "      <td>None</td>\n",
       "      <td>None</td>\n",
       "    </tr>\n",
       "    <tr>\n",
       "      <th>1</th>\n",
       "      <td>2</td>\n",
       "      <td>Gameweek 2</td>\n",
       "      <td>2023-08-18T17:15:00Z</td>\n",
       "      <td>0</td>\n",
       "      <td>False</td>\n",
       "      <td>False</td>\n",
       "      <td>None</td>\n",
       "      <td>1692378900</td>\n",
       "      <td>0</td>\n",
       "      <td>None</td>\n",
       "      <td>...</td>\n",
       "      <td>False</td>\n",
       "      <td>False</td>\n",
       "      <td>[]</td>\n",
       "      <td>None</td>\n",
       "      <td>None</td>\n",
       "      <td>None</td>\n",
       "      <td>None</td>\n",
       "      <td>0</td>\n",
       "      <td>None</td>\n",
       "      <td>None</td>\n",
       "    </tr>\n",
       "    <tr>\n",
       "      <th>2</th>\n",
       "      <td>3</td>\n",
       "      <td>Gameweek 3</td>\n",
       "      <td>2023-08-25T17:30:00Z</td>\n",
       "      <td>0</td>\n",
       "      <td>False</td>\n",
       "      <td>False</td>\n",
       "      <td>None</td>\n",
       "      <td>1692984600</td>\n",
       "      <td>0</td>\n",
       "      <td>None</td>\n",
       "      <td>...</td>\n",
       "      <td>False</td>\n",
       "      <td>False</td>\n",
       "      <td>[]</td>\n",
       "      <td>None</td>\n",
       "      <td>None</td>\n",
       "      <td>None</td>\n",
       "      <td>None</td>\n",
       "      <td>0</td>\n",
       "      <td>None</td>\n",
       "      <td>None</td>\n",
       "    </tr>\n",
       "    <tr>\n",
       "      <th>3</th>\n",
       "      <td>4</td>\n",
       "      <td>Gameweek 4</td>\n",
       "      <td>2023-09-01T17:30:00Z</td>\n",
       "      <td>0</td>\n",
       "      <td>False</td>\n",
       "      <td>False</td>\n",
       "      <td>None</td>\n",
       "      <td>1693589400</td>\n",
       "      <td>0</td>\n",
       "      <td>None</td>\n",
       "      <td>...</td>\n",
       "      <td>False</td>\n",
       "      <td>False</td>\n",
       "      <td>[]</td>\n",
       "      <td>None</td>\n",
       "      <td>None</td>\n",
       "      <td>None</td>\n",
       "      <td>None</td>\n",
       "      <td>0</td>\n",
       "      <td>None</td>\n",
       "      <td>None</td>\n",
       "    </tr>\n",
       "    <tr>\n",
       "      <th>4</th>\n",
       "      <td>5</td>\n",
       "      <td>Gameweek 5</td>\n",
       "      <td>2023-09-16T10:00:00Z</td>\n",
       "      <td>0</td>\n",
       "      <td>False</td>\n",
       "      <td>False</td>\n",
       "      <td>None</td>\n",
       "      <td>1694858400</td>\n",
       "      <td>0</td>\n",
       "      <td>None</td>\n",
       "      <td>...</td>\n",
       "      <td>False</td>\n",
       "      <td>False</td>\n",
       "      <td>[]</td>\n",
       "      <td>None</td>\n",
       "      <td>None</td>\n",
       "      <td>None</td>\n",
       "      <td>None</td>\n",
       "      <td>0</td>\n",
       "      <td>None</td>\n",
       "      <td>None</td>\n",
       "    </tr>\n",
       "  </tbody>\n",
       "</table>\n",
       "<p>5 rows × 23 columns</p>\n",
       "</div>"
      ],
      "text/plain": [
       "   id        name         deadline_time  average_entry_score  finished  \\\n",
       "0   1  Gameweek 1  2023-08-11T17:30:00Z                    0     False   \n",
       "1   2  Gameweek 2  2023-08-18T17:15:00Z                    0     False   \n",
       "2   3  Gameweek 3  2023-08-25T17:30:00Z                    0     False   \n",
       "3   4  Gameweek 4  2023-09-01T17:30:00Z                    0     False   \n",
       "4   5  Gameweek 5  2023-09-16T10:00:00Z                    0     False   \n",
       "\n",
       "   data_checked highest_scoring_entry  deadline_time_epoch  \\\n",
       "0         False                  None           1691775000   \n",
       "1         False                  None           1692378900   \n",
       "2         False                  None           1692984600   \n",
       "3         False                  None           1693589400   \n",
       "4         False                  None           1694858400   \n",
       "\n",
       "   deadline_time_game_offset highest_score  ...  cup_leagues_created  \\\n",
       "0                          0          None  ...                False   \n",
       "1                          0          None  ...                False   \n",
       "2                          0          None  ...                False   \n",
       "3                          0          None  ...                False   \n",
       "4                          0          None  ...                False   \n",
       "\n",
       "   h2h_ko_matches_created                                         chip_plays  \\\n",
       "0                   False  [{'chip_name': 'bboost', 'num_played': 46434},...   \n",
       "1                   False                                                 []   \n",
       "2                   False                                                 []   \n",
       "3                   False                                                 []   \n",
       "4                   False                                                 []   \n",
       "\n",
       "   most_selected  most_transferred_in top_element top_element_info  \\\n",
       "0           None                 None        None             None   \n",
       "1           None                 None        None             None   \n",
       "2           None                 None        None             None   \n",
       "3           None                 None        None             None   \n",
       "4           None                 None        None             None   \n",
       "\n",
       "  transfers_made most_captained most_vice_captained  \n",
       "0              0           None                None  \n",
       "1              0           None                None  \n",
       "2              0           None                None  \n",
       "3              0           None                None  \n",
       "4              0           None                None  \n",
       "\n",
       "[5 rows x 23 columns]"
      ]
     },
     "execution_count": 43,
     "metadata": {},
     "output_type": "execute_result"
    }
   ],
   "source": [
    "events_df.head()"
   ]
  },
  {
   "cell_type": "code",
   "execution_count": 27,
   "id": "b78779d1-b550-44f3-8f86-ce5e3017a53a",
   "metadata": {},
   "outputs": [
    {
     "data": {
      "text/plain": [
       "Index(['id', 'name', 'deadline_time', 'average_entry_score', 'finished',\n",
       "       'data_checked', 'highest_scoring_entry', 'deadline_time_epoch',\n",
       "       'deadline_time_game_offset', 'highest_score', 'is_previous',\n",
       "       'is_current', 'is_next', 'cup_leagues_created',\n",
       "       'h2h_ko_matches_created', 'chip_plays', 'most_selected',\n",
       "       'most_transferred_in', 'top_element', 'top_element_info',\n",
       "       'transfers_made', 'most_captained', 'most_vice_captained'],\n",
       "      dtype='object')"
      ]
     },
     "execution_count": 27,
     "metadata": {},
     "output_type": "execute_result"
    }
   ],
   "source": [
    "events_df.columns"
   ]
  },
  {
   "cell_type": "code",
   "execution_count": 39,
   "id": "0287037f-7e30-4a43-950d-93654d202f6e",
   "metadata": {},
   "outputs": [
    {
     "data": {
      "text/plain": [
       "Index(['code', 'draw', 'form', 'id', 'loss', 'name', 'played', 'points',\n",
       "       'position', 'short_name', 'strength', 'team_division', 'unavailable',\n",
       "       'win', 'strength_overall_home', 'strength_overall_away',\n",
       "       'strength_attack_home', 'strength_attack_away', 'strength_defence_home',\n",
       "       'strength_defence_away', 'pulse_id'],\n",
       "      dtype='object')"
      ]
     },
     "execution_count": 39,
     "metadata": {},
     "output_type": "execute_result"
    }
   ],
   "source": [
    "teams_df.columns"
   ]
  },
  {
   "cell_type": "code",
   "execution_count": 44,
   "id": "9a8b4306-1678-46e9-84b8-f9a2c91d73cf",
   "metadata": {},
   "outputs": [
    {
     "name": "stdout",
     "output_type": "stream",
     "text": [
      "Data for 'events' saved to 'events_data.csv'\n",
      "\n",
      "Data for 'teams' saved to 'teams_data.csv'\n",
      "\n",
      "Data for 'elements' saved to 'elements_data.csv'\n",
      "\n"
     ]
    }
   ],
   "source": [
    "if response.status_code == 200:\n",
    "    data = response.json()\n",
    "    \n",
    "    for key in essential_keys:\n",
    "        if key in data:\n",
    "            value = data[key]\n",
    "            \n",
    "            # Create a DataFrame from the value\n",
    "            df = pd.DataFrame(value)\n",
    "            \n",
    "            # Save the DataFrame to a CSV file\n",
    "            csv_filename = f\"{key}_data.csv\"\n",
    "            df.to_csv(csv_filename, index=False)\n",
    "            \n",
    "            print(f\"Data for '{key}' saved to '{csv_filename}'\\n\")\n",
    "        else:\n",
    "            print(f\"'{key}' not found in the API response.\\n\")\n",
    "else:\n",
    "    print(\"Failed to fetch data from the API.\")"
   ]
  },
  {
   "cell_type": "code",
   "execution_count": null,
   "id": "b59036ac-f897-4149-98b0-93a8ebd5a77c",
   "metadata": {},
   "outputs": [],
   "source": []
  }
 ],
 "metadata": {
  "kernelspec": {
   "display_name": "venv_fpl_kernel",
   "language": "python",
   "name": "venv_fpl"
  },
  "language_info": {
   "codemirror_mode": {
    "name": "ipython",
    "version": 3
   },
   "file_extension": ".py",
   "mimetype": "text/x-python",
   "name": "python",
   "nbconvert_exporter": "python",
   "pygments_lexer": "ipython3",
   "version": "3.11.4"
  }
 },
 "nbformat": 4,
 "nbformat_minor": 5
}
