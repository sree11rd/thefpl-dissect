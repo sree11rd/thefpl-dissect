{
 "cells": [
  {
   "cell_type": "code",
   "execution_count": null,
   "id": "74f3d784-a9e4-4e64-9849-8dd05e7fe813",
   "metadata": {},
   "outputs": [],
   "source": [
    "import requests\n",
    "import pandas as pd\n",
    "import numpy as np"
   ]
  }
 ],
 "metadata": {
  "kernelspec": {
   "display_name": "venv_fpl_kernel",
   "language": "python",
   "name": "venv_fpl"
  },
  "language_info": {
   "codemirror_mode": {
    "name": "ipython",
    "version": 3
   },
   "file_extension": ".py",
   "mimetype": "text/x-python",
   "name": "python",
   "nbconvert_exporter": "python",
   "pygments_lexer": "ipython3",
   "version": "3.11.4"
  }
 },
 "nbformat": 4,
 "nbformat_minor": 5
}
